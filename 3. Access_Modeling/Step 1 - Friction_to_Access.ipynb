{
 "cells": [
  {
   "cell_type": "markdown",
   "id": "beautiful-wheel",
   "metadata": {
    "tags": []
   },
   "source": [
    "# Convert friction surfaces to access surfaces"
   ]
  },
  {
   "cell_type": "markdown",
   "id": "systematic-living",
   "metadata": {},
   "source": [
    "This notebook generates access-time rasters for each combination of season-mode friction surfaces and destinations"
   ]
  },
  {
   "cell_type": "code",
   "execution_count": null,
   "id": "chronic-piece",
   "metadata": {},
   "outputs": [],
   "source": [
    "import os, sys\n",
    "os.environ['USE_PYGEOS'] = '0'\n",
    "\n",
    "import common_rasterio_ops as rast_ops\n",
    "\n",
    "import numpy as np\n",
    "import re\n",
    "\n",
    "import rasterio\n",
    "from rasterio import features, transform\n",
    "from rasterio.merge import merge as merge\n",
    "from rasterio.transform import Affine\n",
    "\n",
    "import pandas as pd\n",
    "import geopandas as gpd\n",
    "\n",
    "import shapely\n",
    "from shapely.geometry import shape, box, MultiPoint, Point, Polygon\n",
    "\n",
    "import skimage.graph as graph\n",
    "\n",
    "import json"
   ]
  },
  {
   "cell_type": "markdown",
   "id": "prescription-rover",
   "metadata": {},
   "source": [
    "## Setup"
   ]
  },
  {
   "cell_type": "code",
   "execution_count": null,
   "id": "97594b1a-7493-4095-959e-6427feea109a",
   "metadata": {},
   "outputs": [],
   "source": [
    "data_root = 'D:\\\\github_test\\\\'\n",
    "\n",
    "##################################################################\n",
    "##################################################################\n",
    "#read project input parameters \n",
    "data_file = data_root + 'project_data.json'\n",
    "\n",
    "##################################################################\n",
    "##################################################################\n",
    "#read project variables so that we have our parameters and file locations\n",
    "with open(data_file, 'rb') as f:\n",
    "    data_loaded = json.load(f)\n",
    "f.close()\n",
    "\n",
    "##################################################################\n",
    "##################################################################\n",
    "#read information from the project setup file that's relevant to this section of code\n",
    "#imports\n",
    "local_lc_folder = data_loaded['local_lc_folder']\n",
    "local_boundaries_folder = data_loaded['local_boundaries_folder']\n",
    "local_destination_folder = data_loaded['local_destination_folder']\n",
    "fric_dir = data_loaded['fric_dir']\n",
    "access_dir = data_loaded['access_dir']\n",
    "dest_crs = data_loaded['dest_crs']\n",
    "dest_crs_id = data_loaded['dest_crs_id']\n",
    "buffer_m = data_loaded['buffer_m']\n",
    "level = data_loaded['level']\n",
    "if level != 'custom':\n",
    "    shapefile_adm_field = data_loaded['shapefile_adm_field']\n",
    "    adm_name = data_loaded['adm_name']\n",
    "\n",
    "\n",
    "seasons = sorted([os.path.join(local_lc_folder,file) \\\n",
    "            for file \\\n",
    "            in os.listdir(local_lc_folder) \\\n",
    "            if file.endswith(\".tif\")])\n",
    "\n",
    "for strnum in range(0, len(seasons)):\n",
    "    seasons[strnum] = str.replace(seasons[strnum], local_lc_folder,\"\")\n",
    "    seasons[strnum] = str.replace(seasons[strnum], \".tif\",\"\")   "
   ]
  },
  {
   "cell_type": "markdown",
   "id": "precious-salmon",
   "metadata": {},
   "source": [
    "Destination files"
   ]
  },
  {
   "cell_type": "code",
   "execution_count": null,
   "id": "2813039a-22f1-464c-8c3d-3eb60e051a3c",
   "metadata": {},
   "outputs": [],
   "source": [
    "# Use destinations - assumes they are already projected to the project's metric CRS\n",
    "dest_fils = {\n",
    "    re.findall(r'(.*?).gpkg',fil)[0]: gpd.read_file(os.path.join(local_destination_folder,fil))\\\n",
    "    for fil in os.listdir(local_destination_folder) if fil.endswith(\".gpkg\")\n",
    "}"
   ]
  },
  {
   "cell_type": "markdown",
   "id": "5f38ff7f-a59d-4778-8d3d-bb2335a27d1e",
   "metadata": {},
   "source": [
    "Slight adjustment to GOST's TT code: export rasters as Float32 to reduce file sizes"
   ]
  },
  {
   "cell_type": "code",
   "execution_count": null,
   "id": "c3190576-b588-4310-9170-0a87d002f981",
   "metadata": {},
   "outputs": [],
   "source": [
    "def get_mcp_dests(inH, destinations, makeset=True):\n",
    "    ''' Get indices from inH for use in mcp.find_costs\n",
    "    INPUT\n",
    "        inH[rasterio] - object from which to extract geographic coordinates\n",
    "        destinations[geopandas geodataframe] - point geodataframe of destinations\n",
    "    RETURN\n",
    "        [list of indices]\n",
    "    '''\n",
    "    if makeset:\n",
    "        cities = list(set([inH.index(x.x, x.y) for x in destinations['geometry']]))\n",
    "    else:\n",
    "        cities = list([inH.index(x.x, x.y) for x in destinations['geometry']])\n",
    "        \n",
    "    cities = [x for x in cities if ((x[0] > 0) and (x[1] > 0) and \n",
    "                (x[0] <= inH.shape[0]) and (x[1] <= inH.shape[1]))]\n",
    "    return(cities)"
   ]
  },
  {
   "cell_type": "code",
   "execution_count": null,
   "id": "e7efc1d0-ad51-46e9-be3d-e4ae2497046a",
   "metadata": {},
   "outputs": [],
   "source": [
    "# adjust GOST's code to always export float32 rasters, as a space saving measure\n",
    "\n",
    "def calculate_travel_time_slim(inH, mcp, destinations, out_raster = ''):\n",
    "    ''' Calculate travel time raster\n",
    "    \n",
    "    INPUTS\n",
    "        inH [rasterio object] - template raster used to identify locations of destinations\n",
    "        mcp [skimage.graph.MCP_Geometric] - input graph\n",
    "        destinations [geopandas df] - destinations for nearest calculations\n",
    "        \n",
    "    LINKS\n",
    "        https://scikit-image.org/docs/0.7.0/api/skimage.graph.mcp.html#skimage.graph.mcp.MCP.find_costs\n",
    "    '''\n",
    "    # create skimage graph, force costs to float32 to save on space\n",
    "    cities = get_mcp_dests(inH, destinations)\n",
    "    # print(cities)\n",
    "    costs, traceback = mcp.find_costs(cities)\n",
    "    # print(\"costs done\")\n",
    "    costs = costs.astype(np.float32)\n",
    "    if not out_raster == '':\n",
    "        meta = inH.meta.copy()\n",
    "        meta.update(dtype=costs.dtype)\n",
    "        with rasterio.open(out_raster, 'w', **meta) as out:\n",
    "            out.write_band(1, costs)\n",
    "            \n",
    "    # return((costs, traceback))"
   ]
  },
  {
   "cell_type": "markdown",
   "id": "fcd8f496-76d5-4666-88cb-cf0e46162839",
   "metadata": {
    "tags": []
   },
   "source": [
    "## Generate access surfaces"
   ]
  },
  {
   "cell_type": "markdown",
   "id": "a87acd3e-d934-488c-beed-9ef1ab2ab42f",
   "metadata": {},
   "source": [
    "Loop over all friction surfaces, for all destinations, to generate access surfaces for each friction surface + each destination using cost distance methods. Note this may take a while!"
   ]
  },
  {
   "cell_type": "code",
   "execution_count": null,
   "id": "23a165ce-0a7b-4e31-ab92-d2d8d8cf7199",
   "metadata": {},
   "outputs": [],
   "source": [
    "fric_tifs = sorted([os.path.join(fric_dir,file) \\\n",
    "            for file \\\n",
    "            in os.listdir(os.path.join(fric_dir)) \\\n",
    "            if file.endswith(\".tif\")]) # can filter more aggressively here if useful\n",
    "\n",
    "for fric_idx, fric in enumerate(fric_tifs):\n",
    "    \n",
    "    fric_name = os.path.basename(fric)\n",
    "    inR = rasterio.open(fric)\n",
    "    inD = inR.read()[0,:,:] \n",
    "    inD = np.nan_to_num(inD,nan=10,posinf=10).astype(np.float32)\n",
    "    mcp = graph.MCP_Geometric(inD)\n",
    "    \n",
    "    for idx, (key, gdf) in enumerate(dest_fils.items()):\n",
    "        # define labels\n",
    "        season = re.split(r'_',fric_name)[0]\n",
    "        modality = re.split(r'_',fric_name)[1].replace('.tif',\"\")\n",
    "             \n",
    "        # print(side)\n",
    "        \n",
    "        # countdown\n",
    "        print(f'{fric_name}: {idx + 1} of {len(dest_fils)}, {key}')\n",
    "\n",
    "        # # create travel time raster describing travel time from all cells to destinations\n",
    "        # costs, traceback = \n",
    "        calculate_travel_time_slim(inR, mcp, gdf, \\\n",
    "                                                os.path.join(access_dir,f\"{season}_{modality}_{key}.tif\"))\n",
    "               \n",
    "    del inR, inD, mcp"
   ]
  }
 ],
 "metadata": {
  "kernelspec": {
   "display_name": "Python (git)",
   "language": "python",
   "name": "git"
  },
  "language_info": {
   "codemirror_mode": {
    "name": "ipython",
    "version": 3
   },
   "file_extension": ".py",
   "mimetype": "text/x-python",
   "name": "python",
   "nbconvert_exporter": "python",
   "pygments_lexer": "ipython3",
   "version": "3.8.19"
  }
 },
 "nbformat": 4,
 "nbformat_minor": 5
}
