{
 "cells": [
  {
   "cell_type": "markdown",
   "id": "opened-authorization",
   "metadata": {},
   "source": [
    "# Process a raster into a large collection of points, then process those points using Dask to clip and spatial join key information from the study's focus area"
   ]
  },
  {
   "cell_type": "markdown",
   "id": "f4fb96fc-d42c-4daf-9520-b5c10273221a",
   "metadata": {},
   "source": [
    "This notebook exports each raster pixel to a csv file that contains its coordinates and population count, as well as the administrative units within which it lies.\n",
    "This process can take some time, so go and relax and enjoy a nice cup of coffee - you've earned it."
   ]
  },
  {
   "cell_type": "code",
   "execution_count": null,
   "id": "b9d8e0a8-b2b9-427f-bb02-21e6ced4bbb2",
   "metadata": {
    "tags": []
   },
   "outputs": [],
   "source": [
    "import os, sys\n",
    "os.environ['USE_PYGEOS'] = '0'\n",
    "\n",
    "import re\n",
    "import numpy as np\n",
    "\n",
    "import rasterio\n",
    "from rasterio import features, transform\n",
    "from rasterio.mask import mask\n",
    "from rasterio.transform import Affine\n",
    "from rasterio.warp import calculate_default_transform, reproject, Resampling\n",
    "\n",
    "import pandas as pd\n",
    "import geopandas as gpd\n",
    "\n",
    "import shapely\n",
    "from shapely.geometry import shape, box, Polygon, Point\n",
    "\n",
    "import json"
   ]
  },
  {
   "cell_type": "markdown",
   "id": "9bb1ba0e-f68a-41bd-8174-f31f07d1c794",
   "metadata": {},
   "source": [
    "### Setup"
   ]
  },
  {
   "cell_type": "code",
   "execution_count": null,
   "id": "d3a26bfa-e2bd-417f-835c-4c66e73f03a5",
   "metadata": {},
   "outputs": [],
   "source": [
    "data_root = 'D:\\\\github_test\\\\'\n",
    "\n",
    "##################################################################\n",
    "##################################################################\n",
    "#read project input parameters \n",
    "data_file = data_root + 'project_data.json'\n",
    "\n",
    "##################################################################\n",
    "##################################################################\n",
    "#read project variables so that we have our parameters and file locations\n",
    "with open(data_file, 'rb') as f:\n",
    "    data_loaded = json.load(f)\n",
    "f.close()\n",
    "\n",
    "##################################################################\n",
    "##################################################################\n",
    "#read information from the project setup file that's relevant to this section of code\n",
    "#imports\n",
    "local_boundaries_folder = data_loaded['local_boundaries_folder']\n",
    "local_population_folder = data_loaded['local_population_folder']\n",
    "dest_crs = data_loaded['dest_crs']\n",
    "dest_crs_id = data_loaded['dest_crs_id']\n",
    "buffer_m = data_loaded['buffer_m']\n",
    "level = data_loaded['level']\n",
    "max_level = data_loaded['max_level']\n",
    "if level != 'custom':\n",
    "    shapefile_adm_field = data_loaded['shapefile_adm_field']\n",
    "    adm_name = data_loaded['adm_name']"
   ]
  },
  {
   "cell_type": "markdown",
   "id": "59279012-f943-4f15-aef5-a86012fb7cb4",
   "metadata": {
    "tags": []
   },
   "source": [
    "### Set up dask cluster (if this is/will be a lot points)"
   ]
  },
  {
   "cell_type": "code",
   "execution_count": null,
   "id": "e427c133-457a-43d4-8acc-66d720100345",
   "metadata": {},
   "outputs": [],
   "source": [
    "import dask\n",
    "import coiled\n",
    "from dask.distributed import Client, LocalCluster, Lock\n",
    "from dask.utils import SerializableLock\n",
    "import dask.dataframe as dd\n",
    "\n",
    "from dask_control import *"
   ]
  },
  {
   "cell_type": "code",
   "execution_count": null,
   "id": "df64a6e4-8fb8-4524-88ef-96f7c8ba15cc",
   "metadata": {
    "tags": []
   },
   "outputs": [],
   "source": [
    "client=get_dask_client(cluster_type='local',n_workers=4,processes=True,threads_per_worker=4)"
   ]
  },
  {
   "cell_type": "markdown",
   "id": "comic-mozambique",
   "metadata": {
    "tags": []
   },
   "source": [
    "### Load and process raster to points"
   ]
  },
  {
   "cell_type": "markdown",
   "id": "strange-termination",
   "metadata": {},
   "source": [
    "Load in the population raster we are using so we process its points"
   ]
  },
  {
   "cell_type": "code",
   "execution_count": null,
   "id": "98262c6f-3f22-4943-8662-7f37d0314a64",
   "metadata": {},
   "outputs": [],
   "source": [
    "pop_pth = local_population_folder\n",
    "\n",
    "pop_file = sorted([os.path.join(pop_pth,file) \\\n",
    "            for file \\\n",
    "            in os.listdir(pop_pth) \\\n",
    "            if file.endswith(\".tif\")])\n",
    "\n",
    "pop_file = pop_file[0]"
   ]
  },
  {
   "cell_type": "code",
   "execution_count": null,
   "id": "3c93ef4b-7a69-42fb-b7f6-aef3e505096e",
   "metadata": {},
   "outputs": [],
   "source": [
    "# Read the population raster file\n",
    "with rasterio.open(pop_file) as src:\n",
    "    # Read the raster data\n",
    "    raster_array = src.read(1).astype(np.float32)  # Assuming a single band raster\n",
    "    transform = src.transform\n",
    "    crs = src.crs\n",
    "\n",
    "    nonzero_cell_count = 0\n",
    "    for _, window in src.block_windows(1):\n",
    "        data = src.read(1, window=window)\n",
    "        # Count nonzero and non-null cells\n",
    "        nonzero_cell_count += ((data > 0) & (data != src.nodata)).sum()\n",
    "    del data\n",
    "    \n",
    "# Get the height and width of the raster\n",
    "height, width = raster_array.shape\n",
    "\n",
    "# Initialize lists to store points and values\n",
    "points_lon = [None for _ in range(nonzero_cell_count)]\n",
    "points_lat = [None for _ in range(nonzero_cell_count)]\n",
    "values = [None for _ in range(nonzero_cell_count)]"
   ]
  },
  {
   "cell_type": "code",
   "execution_count": null,
   "id": "b6f85aa9-b339-4f40-b196-68e55430ec31",
   "metadata": {},
   "outputs": [],
   "source": [
    "# Iterate over each pixel\n",
    "# Thi can take some time\n",
    "list_count = 0\n",
    "for row in range(height):\n",
    "    if row % 1000 == 0:\n",
    "        print('busy converting pixels: ' + str(round((row/height)*100)) + '%')\n",
    "    for col in range(width):\n",
    "        # Get the pixel value\n",
    "        value = raster_array[row, col]\n",
    "        if (value > 0) & (value != src.nodata):\n",
    "            # Convert pixel coordinates to geographic coordinates\n",
    "            lon, lat = rasterio.transform.xy(transform, row, col)\n",
    "            points_lon[list_count] = lon\n",
    "            points_lat[list_count] = lat\n",
    "            values[list_count] = value\n",
    "            list_count += 1    \n",
    "\n",
    "print('pixels conversion complete')\n",
    "\n",
    "del raster_array"
   ]
  },
  {
   "cell_type": "code",
   "execution_count": null,
   "id": "941e1493-0c8a-4939-9047-571342883831",
   "metadata": {},
   "outputs": [],
   "source": [
    "data = {'lon_' + dest_crs_id : points_lon,\n",
    "        'lat_' + dest_crs_id: points_lat,\n",
    "        'VALUE': values}\n",
    "\n",
    "# Convert data to a GeoDataFrame with point geometries\n",
    "geometry = [Point(lon, lat) for lon, lat in zip(data['lon_' + dest_crs_id], data['lat_' + dest_crs_id])]\n",
    "pts = gpd.GeoDataFrame(data, geometry=geometry, crs=dest_crs)"
   ]
  },
  {
   "cell_type": "code",
   "execution_count": null,
   "id": "3befbfd3-4c9a-46e2-88bd-237bbffdc470",
   "metadata": {},
   "outputs": [],
   "source": [
    "#avoid unnecessary pixels in case there is some funny format stuff going on with raster\n",
    "# this step isn't really necessary anymore, but we keep it anyways just in case - it does not take up too much time. better safe than sorry.\n",
    "pts = pts[pts.VALUE > 0]\n",
    "pts = pts[pts.VALUE.notnull()]"
   ]
  },
  {
   "cell_type": "code",
   "execution_count": null,
   "id": "c313d8e3-3f30-41b4-8c99-53a2abc72597",
   "metadata": {},
   "outputs": [],
   "source": [
    "pts = pts.set_crs(dest_crs_id)\n",
    "pts = pts.to_crs(4326)\n",
    "pts['lon_4326'] = pts.geometry.x\n",
    "pts['lat_4326'] = pts.geometry.y\n",
    "\n",
    "pts = pts.to_crs(dest_crs_id)\n",
    "\n",
    "pts = pts[['VALUE','lon_4326','lat_4326','lon_' + dest_crs_id,'lat_' + dest_crs_id]]"
   ]
  },
  {
   "cell_type": "code",
   "execution_count": null,
   "id": "06297a91-e2aa-49e8-86e4-3d78b01e9ca6",
   "metadata": {},
   "outputs": [],
   "source": [
    "import dask.dataframe as dd\n",
    "pts_dd = dd.from_pandas(pts,chunksize=100000)\n",
    "# pts_dd.to_csv(local_population_folder+'population_tabular_raw.csv', header=True, index=True, single_file=True)\n",
    "\n",
    "float64_cols = pts_dd.select_dtypes(include='float64').columns\n",
    "pts_dd = pts_dd.map_partitions(lambda pts_dd: pts_dd.astype({col: 'float32' for col in float64_cols}))"
   ]
  },
  {
   "cell_type": "code",
   "execution_count": null,
   "id": "d77e46ed-cb23-4078-8191-b872aa2b7e21",
   "metadata": {},
   "outputs": [],
   "source": [
    "pts_dd = pts_dd[~pts_dd.isin([' ']).any(axis=1)]"
   ]
  },
  {
   "cell_type": "markdown",
   "id": "c863f069-33d8-4b03-877a-b4819a52701f",
   "metadata": {
    "tags": []
   },
   "source": [
    "#### Clip to desired extent"
   ]
  },
  {
   "cell_type": "markdown",
   "id": "c91ca46a-a504-42d7-84e4-282f85abc24b",
   "metadata": {},
   "source": [
    "Load in AOI as clipping object"
   ]
  },
  {
   "cell_type": "code",
   "execution_count": null,
   "id": "3d6d19f9-1efc-4a74-ab73-9ba509881f04",
   "metadata": {
    "tags": []
   },
   "outputs": [],
   "source": [
    "aoi_path = local_boundaries_folder + max_level + '\\\\'\n",
    "\n",
    "aoi_file = sorted([os.path.join(aoi_path,file) \\\n",
    "            for file \\\n",
    "            in os.listdir(aoi_path) \\\n",
    "            if file.endswith(\".shp\")])\n",
    "\n",
    "aoi_file = aoi_file[0]\n",
    "\n",
    "aoi = gpd.read_file(aoi_file)\n",
    "\n",
    "aoi = aoi[aoi[shapefile_adm_field] == adm_name]\n",
    "aoi = aoi.set_crs(\"EPSG:4326\")"
   ]
  },
  {
   "cell_type": "code",
   "execution_count": null,
   "id": "df3fc761-ce83-45aa-9abf-032447003d4e",
   "metadata": {
    "tags": []
   },
   "outputs": [],
   "source": [
    "if max_level == 'adm2':\n",
    "    aoi = aoi[['geometry','ADM1_EN','ADM2_EN','ADM1_PCODE','ADM2_PCODE']]\n",
    "    aoi = aoi.rename({'ADM1_PCODE':'Adm1_Code','ADM2_PCODE':'Adm2_Code'},axis=1)\n",
    "else:\n",
    "    aoi = aoi[['geometry','ADM1_EN','ADM2_EN','ADM3_EN','ADM1_PCODE','ADM2_PCODE','ADM3_PCODE']]\n",
    "    aoi = aoi.rename({'ADM1_PCODE':'Adm1_Code','ADM2_PCODE':'Adm2_Code','ADM3_PCODE':'Adm3_Code'},axis=1)"
   ]
  },
  {
   "cell_type": "code",
   "execution_count": null,
   "id": "65998284-2ac7-456e-895a-066c71dc3397",
   "metadata": {
    "tags": []
   },
   "outputs": [],
   "source": [
    "def clip_pts(df, polys):\n",
    "    \n",
    "    # ensure that broadcast polys are compiled before running the clip\n",
    "    if isinstance(polys, gpd.GeoDataFrame) == False:\n",
    "        polys = polys.result()\n",
    "    \n",
    "    # convert to gdf\n",
    "    gdf = gpd.GeoDataFrame(\n",
    "        df, \n",
    "        geometry=gpd.points_from_xy(df.lon_4326, df.lat_4326)\n",
    "    ).set_crs(\"EPSG:4326\")\n",
    "    \n",
    "    # Clip by extent\n",
    "    gdf = gpd.clip(gdf, polys)\n",
    "    \n",
    "    # Drop the geometry column as it confuses Dask (which doesn't understand geometry metadata) and isn't needed\n",
    "    df = pd.DataFrame(gdf.drop('geometry', axis=1))\n",
    "    \n",
    "    return df\n",
    "    "
   ]
  },
  {
   "cell_type": "code",
   "execution_count": null,
   "id": "24324b61-0ab4-468d-80e9-455929dcf326",
   "metadata": {
    "tags": []
   },
   "outputs": [],
   "source": [
    "# Broadcast adm3\n",
    "aoi_dist = client.scatter(aoi, broadcast=True)"
   ]
  },
  {
   "cell_type": "code",
   "execution_count": null,
   "id": "ddde7238-e449-41a3-baab-4342067c5ed6",
   "metadata": {
    "tags": []
   },
   "outputs": [],
   "source": [
    "# Distributed clip\n",
    "aoi_pts = pts_dd.map_partitions(clip_pts, aoi_dist)"
   ]
  },
  {
   "cell_type": "markdown",
   "id": "cd9d0fcf-ab64-4263-a77f-0346478a550c",
   "metadata": {
    "tags": []
   },
   "source": [
    "#### Spatial join information from a large collection of polygons to a large collection of points"
   ]
  },
  {
   "cell_type": "code",
   "execution_count": null,
   "id": "b692f7b9-6d43-49a3-bb0d-e3850cb5bbe0",
   "metadata": {},
   "outputs": [],
   "source": [
    "def get_sj(df, polys):\n",
    "    # Join using 4326\n",
    "    # Convert to GDF\n",
    "    if isinstance(polys, gpd.GeoDataFrame) == False:\n",
    "        polys = polys.result()\n",
    "    gdf = gpd.GeoDataFrame(\n",
    "        df, \n",
    "        geometry=gpd.points_from_xy(df.lon_4326, df.lat_4326)\n",
    "    ).set_crs(\"EPSG:4326\")\n",
    "    \n",
    "    gdf = gpd.sjoin(gdf, polys, how='left', op='within')\n",
    "    \n",
    "    df = pd.DataFrame(gdf.drop('geometry', axis=1))    \n",
    "    \n",
    "    return df\n",
    "    "
   ]
  },
  {
   "cell_type": "code",
   "execution_count": null,
   "id": "efe25b2d-7656-4279-9d11-8f289de81c14",
   "metadata": {
    "tags": []
   },
   "outputs": [],
   "source": [
    "aoi_pts_adm = pts_dd.map_partitions(get_sj, aoi_dist)"
   ]
  },
  {
   "cell_type": "markdown",
   "id": "db59e2d5-1b1f-4845-b192-ae2d5208683b",
   "metadata": {
    "tags": []
   },
   "source": [
    "#### Export"
   ]
  },
  {
   "cell_type": "markdown",
   "id": "f7c2424b-6edb-4f80-ac10-d670e5f3484f",
   "metadata": {},
   "source": [
    "Export dask outputs"
   ]
  },
  {
   "cell_type": "code",
   "execution_count": null,
   "id": "c628e57a-e22d-46d1-a58d-1d9ce10af44d",
   "metadata": {},
   "outputs": [],
   "source": [
    "keep = [col for col in aoi_pts_adm.columns if 'Unnamed' not in col and 'index' not in col]\n",
    "# Select only the columns to keep\n",
    "aoi_pts_adm = aoi_pts_adm[keep]\n",
    "aoi_pts_adm = aoi_pts_adm.dropna()\n",
    "aoi_pts_adm.to_csv(local_population_folder+'population_tabular_final.csv',header=None,index=False, single_file=True)"
   ]
  }
 ],
 "metadata": {
  "kernelspec": {
   "display_name": "Python (git)",
   "language": "python",
   "name": "git"
  },
  "language_info": {
   "codemirror_mode": {
    "name": "ipython",
    "version": 3
   },
   "file_extension": ".py",
   "mimetype": "text/x-python",
   "name": "python",
   "nbconvert_exporter": "python",
   "pygments_lexer": "ipython3",
   "version": "3.8.19"
  }
 },
 "nbformat": 4,
 "nbformat_minor": 5
}
