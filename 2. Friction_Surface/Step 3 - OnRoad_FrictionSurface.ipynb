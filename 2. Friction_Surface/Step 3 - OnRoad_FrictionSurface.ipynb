{
 "cells": [
  {
   "cell_type": "markdown",
   "id": "exterior-subscription",
   "metadata": {},
   "source": [
    "## Vector to Raster: A step-by-step breakdown"
   ]
  },
  {
   "cell_type": "markdown",
   "id": "sustained-resolution",
   "metadata": {},
   "source": [
    "This notebook processes a single line vector into a raster file with the 'speed' attribute used as the raster pixel value. </br> In our routine, we use this notebook to convert the final processed road rasters into speed surfaces we can combine with the walking friction surface in the next notebook."
   ]
  },
  {
   "cell_type": "code",
   "execution_count": null,
   "id": "quick-venue",
   "metadata": {},
   "outputs": [],
   "source": [
    "import os, sys\n",
    "os.environ['USE_PYGEOS'] = '0'\n",
    "\n",
    "import pprint\n",
    "from pprint import pprint\n",
    "\n",
    "import common_rasterio_ops as rast_ops\n",
    "\n",
    "import numpy as np\n",
    "\n",
    "import rasterio\n",
    "from rasterio import features\n",
    "from rasterio import transform\n",
    "from rasterio.transform import Affine\n",
    "from rasterio.mask import mask\n",
    "from rasterio.io import MemoryFile\n",
    "\n",
    "import pandas as pd\n",
    "import geopandas as gpd\n",
    "\n",
    "import shapely\n",
    "from shapely.geometry import shape\n",
    "\n",
    "import json"
   ]
  },
  {
   "cell_type": "markdown",
   "id": "structured-remainder",
   "metadata": {},
   "source": [
    "File paths"
   ]
  },
  {
   "cell_type": "code",
   "execution_count": null,
   "id": "01372853-f373-46c9-b774-9b03d7d82a07",
   "metadata": {},
   "outputs": [],
   "source": [
    "data_root = 'D:\\\\github_test\\\\'\n",
    "\n",
    "##################################################################\n",
    "##################################################################\n",
    "#read project input parameters that will eventually be passed from the UI\n",
    "data_file = data_root + 'project_data.json'\n",
    "\n",
    "##################################################################\n",
    "##################################################################\n",
    "#read project variables that will come from UI so that we have our parameters and file locations\n",
    "with open(data_file, 'rb') as f:\n",
    "    data_loaded = json.load(f)\n",
    "f.close()\n",
    "\n",
    "##################################################################\n",
    "##################################################################\n",
    "#read information from the project setup file that's relevant to this section of code\n",
    "#imports\n",
    "local_lc_folder = data_loaded['local_lc_folder']\n",
    "local_roads_folder = data_loaded['local_roads_folder']\n",
    "local_dem_folder = data_loaded['local_dem_folder']\n",
    "local_boundaries_folder = data_loaded['local_boundaries_folder']\n",
    "fric_dir = data_loaded['fric_dir']\n",
    "fric_dir_onroad = data_loaded['fric_dir_onroad']\n",
    "dest_crs = data_loaded['dest_crs']\n",
    "dest_crs_id = data_loaded['dest_crs_id']\n",
    "buffer_m = data_loaded['buffer_m']\n",
    "level = data_loaded['level']\n",
    "if level != 'custom':\n",
    "    shapefile_adm_field = data_loaded['shapefile_adm_field']\n",
    "    adm_name = data_loaded['adm_name']\n"
   ]
  },
  {
   "cell_type": "code",
   "execution_count": null,
   "id": "338059fc-b2dc-42ed-8b6a-03e4f36ab96e",
   "metadata": {},
   "outputs": [],
   "source": [
    "seasons = sorted([os.path.join(local_lc_folder,file) \\\n",
    "            for file \\\n",
    "            in os.listdir(local_lc_folder) \\\n",
    "            if file.endswith(\".tif\")])"
   ]
  },
  {
   "cell_type": "code",
   "execution_count": null,
   "id": "80393c9b-33e1-4099-a677-23d45a3e8b01",
   "metadata": {},
   "outputs": [],
   "source": [
    "for strnum in range(0, len(seasons)):\n",
    "    seasons[strnum] = str.replace(seasons[strnum], local_lc_folder,\"\")\n",
    "    seasons[strnum] = str.replace(seasons[strnum], \".tif\",\"\")   "
   ]
  },
  {
   "cell_type": "markdown",
   "id": "d595ad8a",
   "metadata": {},
   "source": [
    "Load Shapefile of aoi to clip the final data"
   ]
  },
  {
   "cell_type": "code",
   "execution_count": null,
   "id": "aaadade3-c757-484c-914c-b1bfdc8c9bf7",
   "metadata": {},
   "outputs": [],
   "source": [
    "aoi_pth = local_boundaries_folder + level + '\\\\'\n",
    "\n",
    "aoi_file = sorted([os.path.join(aoi_pth,file) \\\n",
    "            for file \\\n",
    "            in os.listdir(aoi_pth) \\\n",
    "            if file.endswith(\".shp\")])\n",
    "\n",
    "aoi_file = aoi_file[0]\n",
    "\n",
    "aoi = gpd.read_file(aoi_file)\n",
    "\n",
    "aoi = aoi[aoi[shapefile_adm_field] == adm_name]\n",
    "aoi = aoi.to_crs(dest_crs)\n",
    "\n",
    "# Buffer the polygon so we take in nearby markets and roads that may be used\n",
    "aoi.geometry = aoi.buffer(buffer_m)"
   ]
  },
  {
   "cell_type": "markdown",
   "id": "e101603f-9e34-4315-92a4-ff29b7bfe385",
   "metadata": {
    "tags": []
   },
   "source": [
    "### Load reference raster"
   ]
  },
  {
   "cell_type": "markdown",
   "id": "f2461805-b207-4f33-bd97-976ee33253cd",
   "metadata": {},
   "source": [
    "Load in a raster we are aligning with (generally the Off-Road / walking raster itself) so we can match up exactly to its grid and cell size"
   ]
  },
  {
   "cell_type": "code",
   "execution_count": null,
   "id": "eeefa460-f9d3-4002-b6dd-cb697bb505e3",
   "metadata": {},
   "outputs": [],
   "source": [
    "# choose the raster with the appropriate resolution\n",
    "with rasterio.open(\n",
    "        os.path.join(fric_dir,seasons[0]+'_walk.tif'), 'r') as src:\n",
    "    base_array = src.read(1)\n",
    "    base_idx = src.index\n",
    "    base_profile = src.meta.copy()\n",
    "    base_tform = src.transform"
   ]
  },
  {
   "cell_type": "code",
   "execution_count": null,
   "id": "934f83c2-89ea-4d6e-bb2e-e6d930e6a54c",
   "metadata": {},
   "outputs": [],
   "source": [
    "### Exporting\n",
    "\n",
    "export_profile = {\n",
    "    \"driver\": \"GTiff\",\n",
    "    \"dtype\": \"float32\",\n",
    "    \"crs\":{'init':dest_crs},\n",
    "    \"height\": base_array.shape[0],\n",
    "    \"width\": base_array.shape[1],\n",
    "    \"count\":1,\n",
    "    \"nodata\":0,\n",
    "    \"transform\": base_tform,\n",
    "    \"compress\":'LZW'\n",
    "}"
   ]
  },
  {
   "cell_type": "code",
   "execution_count": null,
   "id": "026ec975-01c4-4732-b16b-b5039f4140ec",
   "metadata": {
    "tags": []
   },
   "outputs": [],
   "source": [
    "# load in the vertical distance raster\n",
    "# This layer represents the extra total distance that must be traversed due to vertical gains, accounting for the likelihood of walkers using switchbacks on slopes above 30 degrees\n",
    "with rasterio.open(os.path.join(local_dem_folder,'vert_dist_switchback.tif'),'r') as vertdist_switchback_src:\n",
    "    vert_dist_switchback = vertdist_switchback_src.read()"
   ]
  },
  {
   "cell_type": "markdown",
   "id": "empty-johnson",
   "metadata": {
    "tags": []
   },
   "source": [
    "### Load in road file"
   ]
  },
  {
   "cell_type": "code",
   "execution_count": null,
   "id": "a142462f-97a1-4167-80e5-c8bf3c06b09e",
   "metadata": {},
   "outputs": [],
   "source": [
    "rd_pth = local_roads_folder + 'final_roads.gpkg'\n",
    "\n",
    "# replace with master transport file prepared in Step 1\n",
    "rd = gpd.read_file(rd_pth,driver=\"GPKG\")\n",
    "\n",
    "# clipping the roads by the extent of your reference raster\n",
    "\n",
    "from shapely.geometry import Polygon, box\n",
    "bbox = box(*src.bounds)\n",
    "\n",
    "rds_clip = gpd.clip(rd,bbox)"
   ]
  },
  {
   "cell_type": "code",
   "execution_count": null,
   "id": "72228e4a-e239-48de-9bc3-190b3d1adc0b",
   "metadata": {},
   "outputs": [],
   "source": [
    "for season_num in range(0, len(seasons)):\n",
    "    \n",
    "    current_season = seasons[season_num]\n",
    "    \n",
    "    # replace with speed column you're using\n",
    "    speed_column = current_season + '_speed'\n",
    "\n",
    "    # Reorder the datafram least to highest, so that the generator and therefore speed values are written similarly, \n",
    "    # This has the ultimate consequence that higher values overwrite lower values where they overlap\n",
    "\n",
    "    rds_clip = rds_clip.sort_values(by=speed_column)\n",
    "\n",
    "    if rds_clip.crs.is_projected == True:\n",
    "        None\n",
    "    else:\n",
    "        rds_clip = rds_clip.to_crs(dest_crs)\n",
    "\n",
    "#     ### Rasterizing vectors\n",
    "\n",
    "#     Run a function to generate all the necessary parameters for our raster outputs based on the extent of the input shapefile\n",
    "\n",
    "    bds, ht, wth, src_tform, dst_tform, shapes, scale_factor_x, scale_factor_y = rast_ops.get_raster_params(rds_clip,src,speed_column)\n",
    "\n",
    "    # New code downsamples the code while rasterizing, saving us major headaches with resampling in memory.\n",
    "\n",
    "    road_rast = features.rasterize(shapes,\\\n",
    "                      out_shape = (base_array.shape[0],\\\n",
    "                                   base_array.shape[1]),\\\n",
    "                      transform=base_tform,\n",
    "                      all_touched=True,\n",
    "                      dtype = np.float32)\n",
    "\n",
    "    # check values are of the right magnitude\n",
    "    road_rast[road_rast > 0]\n",
    "\n",
    "    # Export masked version\n",
    "    road_rast_mask, road_rast_mask_tform = rast_ops.clip_in_memory(road_rast,export_profile, aoi.geometry)\n",
    "    \n",
    "    # Convert speed surfaces to friction surfaces\n",
    "    # refactor driving speeds to friction values in units of cell size / hour (e.g. 30m / hour)\n",
    "    # to get values in minutes multiply by 60\n",
    "    friction_drive_step1 = (1 / road_rast_mask) / (1000 / base_tform.a)  \n",
    "    del road_rast_mask\n",
    "\n",
    "    # Multiply these friction surfaces by the vertical+horizontal distance\n",
    "    # we use the simple vertical distance, without switchbacks, on the assumption road switchbacks are incorporated into the vector line objects that have been rasterized\n",
    "    friction_drive_step2 = np.multiply(friction_drive_step1,vert_dist_switchback) \n",
    "    del friction_drive_step1\n",
    "\n",
    "    ### Remove index band\n",
    "    friction_drive_step2 = friction_drive_step2[0, :, :]\n",
    "    \n",
    "    with rasterio.open(\n",
    "            os.path.join(fric_dir_onroad,current_season + '_onroad.tif'), 'w',**export_profile) as dst:\n",
    "        dst.write(friction_drive_step2,indexes=1)"
   ]
  }
 ],
 "metadata": {
  "kernelspec": {
   "display_name": "Python 3 (ipykernel)",
   "language": "python",
   "name": "python3"
  },
  "language_info": {
   "codemirror_mode": {
    "name": "ipython",
    "version": 3
   },
   "file_extension": ".py",
   "mimetype": "text/x-python",
   "name": "python",
   "nbconvert_exporter": "python",
   "pygments_lexer": "ipython3",
   "version": "3.8.19"
  }
 },
 "nbformat": 4,
 "nbformat_minor": 5
}
