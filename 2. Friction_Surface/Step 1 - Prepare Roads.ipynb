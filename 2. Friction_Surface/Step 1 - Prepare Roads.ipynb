{
 "cells": [
  {
   "cell_type": "markdown",
   "metadata": {
    "tags": []
   },
   "source": [
    "# Step 1 - Prepare roads"
   ]
  },
  {
   "cell_type": "markdown",
   "metadata": {},
   "source": [
    "This notebook merges roads/paths and prepares speeds based on their input data parameters.\n",
    "\n",
    "It is set up for roads data downloaded from OSM (geofabrik downloads are most typical)"
   ]
  },
  {
   "cell_type": "code",
   "execution_count": null,
   "metadata": {},
   "outputs": [],
   "source": [
    "import os, sys\n",
    "os.environ['USE_PYGEOS'] = '0'\n",
    "import pandas as pd\n",
    "import geopandas as gpd\n",
    "import numpy as np\n",
    "import pyproj as pyp\n",
    "from datetime import date\n",
    "import json"
   ]
  },
  {
   "cell_type": "markdown",
   "metadata": {},
   "source": [
    "#### Background: essential data prep"
   ]
  },
  {
   "cell_type": "markdown",
   "metadata": {},
   "source": [
    "Average slope should be added per road segment in QGIS / ArcGIS ahead of time so that the resulting slope categories can be used here. You can use the Add Surface Information tool in ArcGIS to accomplish this (theoretically the SAGA toolkit has similar tools in QGIS). "
   ]
  },
  {
   "cell_type": "markdown",
   "metadata": {
    "tags": []
   },
   "source": [
    "#### Load parameters"
   ]
  },
  {
   "cell_type": "code",
   "execution_count": null,
   "metadata": {
    "tags": []
   },
   "outputs": [],
   "source": [
    "data_root = 'D:\\\\github_test\\\\'\n",
    "\n",
    "##################################################################\n",
    "##################################################################\n",
    "#read project input parameters that will eventually be passed from the UI\n",
    "data_file = data_root + 'project_data.json'\n",
    "\n",
    "##################################################################\n",
    "##################################################################\n",
    "#read project variables that will come from UI so that we have our parameters and file locations\n",
    "with open(data_file, 'rb') as f:\n",
    "    data_loaded = json.load(f)\n",
    "f.close()\n",
    "\n",
    "##################################################################\n",
    "##################################################################\n",
    "#read information from the project setup file that's relevant to this section of code\n",
    "#imports\n",
    "local_dem_folder = data_loaded['local_dem_folder']\n",
    "local_roads_folder = data_loaded['local_roads_folder']\n",
    "local_lc_folder = data_loaded['local_lc_folder']\n",
    "dest_crs = data_loaded['dest_crs']\n",
    "dest_crs_id = data_loaded['dest_crs_id']\n",
    "buffer_m = data_loaded['buffer_m']\n",
    "\n",
    "##################################################################\n",
    "##################################################################\n",
    "seasons = sorted([os.path.join(local_lc_folder,file) \\\n",
    "            for file \\\n",
    "            in os.listdir(local_lc_folder) \\\n",
    "            if file.endswith(\".tif\")])\n",
    "\n",
    "for strnum in range(0, len(seasons)):\n",
    "    seasons[strnum] = str.replace(seasons[strnum], local_lc_folder,\"\")\n",
    "    seasons[strnum] = str.replace(seasons[strnum], \".tif\",\"\")   "
   ]
  },
  {
   "cell_type": "markdown",
   "metadata": {},
   "source": [
    "#### OSM roads data"
   ]
  },
  {
   "cell_type": "code",
   "execution_count": null,
   "metadata": {
    "tags": []
   },
   "outputs": [],
   "source": [
    "# Load in the latest OSM data\n",
    "# Assumes data to have been downloaded from Geofabrik\n",
    "roads_file = sorted([os.path.join(local_roads_folder,file) \\\n",
    "            for file \\\n",
    "            in os.listdir(local_roads_folder) \\\n",
    "            if file.endswith(\".shp\")])\n",
    "\n",
    "roads_file = roads_file[0]\n",
    "osm = gpd.read_file(roads_file)\n",
    "osm.crs = dest_crs\n",
    "\n",
    "# Rename Geofabrik's default 'flcass' column to the standard 'highway'\n",
    "if 'fclass' in osm.columns:\n",
    "    osm.rename({'fclass':'highway'},axis=1,inplace=True)\n",
    "\n",
    "# dicts containing lists of values to replace, with the new key listed lasts\n",
    "track_dct = dict.fromkeys(['track_grade1','track_grade2','track_grade3','track_grade4','track_grade5'], 'track')\n",
    "minor_rd_dct = dict.fromkeys(['unclassified','road','service','residential', 'living_street'], 'minor_road')\n",
    "pth_dct = dict.fromkeys(['path','footway','steps','pedestrian', 'bridleway'], 'path')\n",
    "\n",
    "# Update the original dict with these new dicts\n",
    "highway_replace_dct = {}\n",
    "highway_replace_dct.update(track_dct)\n",
    "highway_replace_dct.update(minor_rd_dct)\n",
    "highway_replace_dct.update(pth_dct)\n",
    "\n",
    "# streamline highway values to a few key types using the above dictionary\n",
    "osm['highway'] = osm['highway'].replace(highway_replace_dct)\n",
    "\n",
    "#Filter out any lingering highway types we don't want using a list of values\n",
    "accepted_road_types = ['path',\\\n",
    "                       'track','minor_road',\\\n",
    "                       'tertiary','secondary','primary','trunk','motorway',\\\n",
    "                       'tertiary_link','secondary_link','primary_link','trunk_link','motorway_link']\n",
    "\n",
    "osm = osm[osm['highway'].isin(accepted_road_types)]\n",
    "\n",
    "# dicts containing lists of values to replace, with the new key listed lasts\n",
    "provincial_dct = dict.fromkeys(['primary','primary_link','trunk','trunk_link','motorway', 'motorway_link'], 'Provincial')\n",
    "district_dct = dict.fromkeys(['secondary','secondary_link','tertiary','tertiary_link'], 'District')\n",
    "access_dct = dict.fromkeys(['track'], 'Access')\n",
    "collector_dct = dict.fromkeys(['minor_road'], 'Collector')\n",
    "\n",
    "simplified_dct = {}\n",
    "simplified_dct.update(provincial_dct)\n",
    "simplified_dct.update(district_dct)\n",
    "simplified_dct.update(access_dct)\n",
    "simplified_dct.update(collector_dct)\n",
    "\n",
    "osm['Road_Class'] = osm['highway'].map(simplified_dct).fillna('Path')\n",
    "osm['Surface_Final'] = np.nan\n",
    "osm_slim = osm[['geometry','Road_Class','Surface_Final','Avg_Slope']]"
   ]
  },
  {
   "cell_type": "markdown",
   "metadata": {
    "tags": []
   },
   "source": [
    "### Manipulate datasets to arrive at final speeds"
   ]
  },
  {
   "cell_type": "markdown",
   "metadata": {},
   "source": [
    "Slope information has already been joined in to the input shapefiles in a pre-processing step.\n",
    "\n",
    "Thefore, proceed to use slope to generate terrain category "
   ]
  },
  {
   "cell_type": "code",
   "execution_count": null,
   "metadata": {},
   "outputs": [],
   "source": [
    "osm_slim['Terrain'] = pd.cut(osm_slim['Avg_Slope'], [-np.inf, 8, 16, np.inf], \n",
    "                           labels = ['Plains', 'Hills', 'Mountains']) "
   ]
  },
  {
   "cell_type": "markdown",
   "metadata": {},
   "source": [
    "Base speeds will be based on terrain category and road type"
   ]
  },
  {
   "cell_type": "code",
   "execution_count": null,
   "metadata": {},
   "outputs": [],
   "source": [
    "terrain_class_filter = [osm_slim['Terrain'].str.contains('Plains') & osm_slim['Road_Class'].str.contains('Provincial'),    \n",
    "    osm_slim['Terrain'].str.contains('Plains') & osm_slim['Road_Class'].str.contains('District'),    \n",
    "    osm_slim['Terrain'].str.contains('Plains') & osm_slim['Road_Class'].str.contains('Access'),    \n",
    "    osm_slim['Terrain'].str.contains('Plains') & osm_slim['Road_Class'].str.contains('Collector'),\n",
    "    osm_slim['Terrain'].str.contains('Hills') & osm_slim['Road_Class'].str.contains('Provincial'),    \n",
    "    osm_slim['Terrain'].str.contains('Hills') & osm_slim['Road_Class'].str.contains('District'),    \n",
    "    osm_slim['Terrain'].str.contains('Hills') & osm_slim['Road_Class'].str.contains('Access'),    \n",
    "    osm_slim['Terrain'].str.contains('Hills') & osm_slim['Road_Class'].str.contains('Collector'),\n",
    "    osm_slim['Terrain'].str.contains('Mountains') & osm_slim['Road_Class'].str.contains('Provincial'),    \n",
    "    osm_slim['Terrain'].str.contains('Mountains') & osm_slim['Road_Class'].str.contains('District'),    \n",
    "    osm_slim['Terrain'].str.contains('Mountains') & osm_slim['Road_Class'].str.contains('Access'),    \n",
    "    osm_slim['Terrain'].str.contains('Mountains') & osm_slim['Road_Class'].str.contains('Collector')]\n",
    "                        \n",
    "#read the default speeds assigned to terrain and road type, from the speeds.csv file in the roads folder\n",
    "csv_file_loc = local_roads_folder + 'speeds.csv'\n",
    "\n",
    "df_comma = pd.read_csv(csv_file_loc, nrows=1,sep=\",\")\n",
    "df_semi = pd.read_csv(csv_file_loc, nrows=1, sep=\";\")\n",
    "\n",
    "if df_comma.shape[1]>df_semi.shape[1]:\n",
    "    speeds_csv =  pd.read_csv(csv_file_loc, sep=',')\n",
    "else:\n",
    "    speeds_csv =  pd.read_csv(csv_file_loc, sep=';')\n",
    "    \n",
    "speeds_lst = [speeds_csv.loc[0,'Provincial'],speeds_csv.loc[0,'District'],speeds_csv.loc[0,'Access'],speeds_csv.loc[0,'Collector'],\\\n",
    "                 speeds_csv.loc[1,'Provincial'],speeds_csv.loc[1,'District'],speeds_csv.loc[1,'Access'],speeds_csv.loc[1,'Collector'],\\\n",
    "                 speeds_csv.loc[2,'Provincial'],speeds_csv.loc[2,'District'],speeds_csv.loc[2,'Access'],speeds_csv.loc[2,'Collector']]\n",
    "\n",
    "osm_slim['base_speed'] = np.select(terrain_class_filter,speeds_lst,default=0.0) #default is for path speeds, we make it 0 to avoid vehicles using paths and only proper roads\n",
    "\n",
    "# must convert the Terrain Type to String to export as a geopackage\n",
    "osm_slim['Terrain'] = osm_slim['Terrain'].astype(str)"
   ]
  },
  {
   "cell_type": "markdown",
   "metadata": {},
   "source": [
    "Assign default surface types from the surface.csv file in the roads folder"
   ]
  },
  {
   "cell_type": "code",
   "execution_count": null,
   "metadata": {},
   "outputs": [],
   "source": [
    "csv_file_loc = local_roads_folder + 'surface.csv'\n",
    "\n",
    "df_comma = pd.read_csv(csv_file_loc, nrows=1,sep=\",\")\n",
    "df_semi = pd.read_csv(csv_file_loc, nrows=1, sep=\";\")\n",
    "\n",
    "if df_comma.shape[1]>df_semi.shape[1]:\n",
    "    surface =  pd.read_csv(csv_file_loc, sep=',')\n",
    "else:\n",
    "    surface =  pd.read_csv(csv_file_loc, sep=';')\n",
    "\n",
    "prov_dct = dict.fromkeys(['Provincial'],surface.loc[0,'Surface'])\n",
    "distr_dct = dict.fromkeys(['District'],surface.loc[1,'Surface'])\n",
    "access_dct = dict.fromkeys(['Access'],surface.loc[2,'Surface'])\n",
    "coll_dct = dict.fromkeys(['Collector'],surface.loc[3,'Surface'])\n",
    "path_dct = dict.fromkeys(['Path'],'Earthen')\n",
    "\n",
    "osm_slim.Surface_Final = osm_slim.Road_Class\n",
    "osm_slim.Surface_Final = osm_slim.Surface_Final.replace(prov_dct)\n",
    "osm_slim.Surface_Final = osm_slim.Surface_Final.replace(distr_dct)\n",
    "osm_slim.Surface_Final = osm_slim.Surface_Final.replace(access_dct)\n",
    "osm_slim.Surface_Final = osm_slim.Surface_Final.replace(coll_dct)\n",
    "osm_slim.Surface_Final = osm_slim.Surface_Final.replace(path_dct)\n",
    "osm_slim.Surface_Final = osm_slim.Surface_Final.fillna('Earthen')\n",
    "\n",
    "# assign default road condition based on Road_Class and Terrain\n",
    "\n",
    "road_condition_filter1 = [osm_slim['Terrain'].str.contains('Plains') & osm_slim['Road_Class'].str.contains('Provincial'),    \n",
    "    osm_slim['Terrain'].str.contains('Plains') & osm_slim['Road_Class'].str.contains('District'),    \n",
    "    osm_slim['Terrain'].str.contains('Plains') & osm_slim['Road_Class'].str.contains('Access'),    \n",
    "    osm_slim['Terrain'].str.contains('Plains') & osm_slim['Road_Class'].str.contains('Collector'),\n",
    "    osm_slim['Terrain'].str.contains('Hills') & osm_slim['Road_Class'].str.contains('Provincial'),    \n",
    "    osm_slim['Terrain'].str.contains('Hills') & osm_slim['Road_Class'].str.contains('District'),    \n",
    "    osm_slim['Terrain'].str.contains('Hills') & osm_slim['Road_Class'].str.contains('Access'),    \n",
    "    osm_slim['Terrain'].str.contains('Hills') & osm_slim['Road_Class'].str.contains('Collector'),\n",
    "    osm_slim['Terrain'].str.contains('Mountains') & osm_slim['Road_Class'].str.contains('Provincial'),    \n",
    "    osm_slim['Terrain'].str.contains('Mountains') & osm_slim['Road_Class'].str.contains('District'),    \n",
    "    osm_slim['Terrain'].str.contains('Mountains') & osm_slim['Road_Class'].str.contains('Access'),    \n",
    "    osm_slim['Terrain'].str.contains('Mountains') & osm_slim['Road_Class'].str.contains('Collector')]\n",
    "\n",
    "csv_file_loc = local_roads_folder + 'default_cond.csv'\n",
    "\n",
    "df_comma = pd.read_csv(csv_file_loc, nrows=1,sep=\",\")\n",
    "df_semi = pd.read_csv(csv_file_loc, nrows=1, sep=\";\")\n",
    "\n",
    "if df_comma.shape[1]>df_semi.shape[1]:\n",
    "    default_cond_csv =  pd.read_csv(csv_file_loc, sep=',')\n",
    "else:\n",
    "    default_cond_csv =  pd.read_csv(csv_file_loc, sep=';')\n",
    "\n",
    "default_cond1 = [default_cond_csv.loc[0,'Provincial'],default_cond_csv.loc[0,'District'],default_cond_csv.loc[0,'Access'],default_cond_csv.loc[0,'Collector'],\\\n",
    "                 default_cond_csv.loc[1,'Provincial'],default_cond_csv.loc[1,'District'],default_cond_csv.loc[1,'Access'],default_cond_csv.loc[1,'Collector'],\\\n",
    "                 default_cond_csv.loc[2,'Provincial'],default_cond_csv.loc[2,'District'],default_cond_csv.loc[2,'Access'],default_cond_csv.loc[2,'Collector']]\n",
    "\n",
    "# default_cond1\n",
    "osm_slim['Road_Cond_Final'] = np.select(road_condition_filter1, default_cond1)"
   ]
  },
  {
   "cell_type": "markdown",
   "metadata": {},
   "source": [
    "### Calculate speeds"
   ]
  },
  {
   "cell_type": "code",
   "execution_count": null,
   "metadata": {},
   "outputs": [],
   "source": [
    "#Specify surface-condition combinations\n",
    "speed_adj_class_filter = [osm_slim['Surface_Final'].str.contains('Earthen') & osm_slim['Road_Cond_Final'].str.contains('Good'),    \n",
    "    osm_slim['Surface_Final'].str.contains('Earthen') & osm_slim['Road_Cond_Final'].str.contains('Fair'),    \n",
    "    osm_slim['Surface_Final'].str.contains('Earthen') & osm_slim['Road_Cond_Final'].str.contains('Poor'),\n",
    "    osm_slim['Surface_Final'].str.contains('Gravel') & osm_slim['Road_Cond_Final'].str.contains('Good'),    \n",
    "    osm_slim['Surface_Final'].str.contains('Gravel') & osm_slim['Road_Cond_Final'].str.contains('Fair'),    \n",
    "    osm_slim['Surface_Final'].str.contains('Gravel') & osm_slim['Road_Cond_Final'].str.contains('Poor'),\n",
    "    osm_slim['Surface_Final'].str.contains('Paved') & osm_slim['Road_Cond_Final'].str.contains('Good'),    \n",
    "    osm_slim['Surface_Final'].str.contains('Paved') & osm_slim['Road_Cond_Final'].str.contains('Fair'),    \n",
    "    osm_slim['Surface_Final'].str.contains('Paved') & osm_slim['Road_Cond_Final'].str.contains('Poor')]\n",
    "\n",
    "#Season modeling: each season's speeds should also be modified by the surface/condition combination speeds from the [season].csv files in the roads folder\n",
    "for season_num in range(0, len(seasons)):\n",
    "    \n",
    "    current_season = seasons[season_num]\n",
    "    \n",
    "    csv_file_loc = local_roads_folder + current_season + '.csv'\n",
    "        \n",
    "    df_comma = pd.read_csv(csv_file_loc, nrows=1,sep=\",\")\n",
    "    df_semi = pd.read_csv(csv_file_loc, nrows=1, sep=\";\")\n",
    "\n",
    "    if df_comma.shape[1]>df_semi.shape[1]:\n",
    "        season_mods =  pd.read_csv(csv_file_loc, sep=',')\n",
    "    else:\n",
    "        season_mods =  pd.read_csv(csv_file_loc, sep=';')\n",
    "\n",
    "    # list of season speed modifiers\n",
    "    speed_mods = [season_mods.loc[0,'Good'],season_mods.loc[0,'Fair'],season_mods.loc[0,'Poor'],\\\n",
    "                     season_mods.loc[1,'Good'],season_mods.loc[1,'Fair'],season_mods.loc[1,'Poor'],\\\n",
    "                     season_mods.loc[2,'Good'],season_mods.loc[2,'Fair'],season_mods.loc[2,'Poor']]\n",
    "\n",
    "    mod_col_name = current_season + '_mod'\n",
    "    speed_col_name = current_season + '_speed'\n",
    "\n",
    "    #assign speed_mods to the surface-condition combinations\n",
    "    osm_slim[mod_col_name] = np.select(speed_adj_class_filter,speed_mods,default=0.0) #default is for path speeds, we make it 0 to avoid vehicles using paths and only proper roads\n",
    "    osm_slim[speed_col_name] = osm_slim[mod_col_name] * osm_slim.base_speed"
   ]
  },
  {
   "cell_type": "markdown",
   "metadata": {},
   "source": [
    "## Export final data"
   ]
  },
  {
   "cell_type": "markdown",
   "metadata": {},
   "source": [
    "Export"
   ]
  },
  {
   "cell_type": "code",
   "execution_count": null,
   "metadata": {},
   "outputs": [],
   "source": [
    "osm_slim.to_file(local_roads_folder + 'final_roads.gpkg',driver='GPKG')"
   ]
  }
 ],
 "metadata": {
  "kernelspec": {
   "display_name": "Python (git)",
   "language": "python",
   "name": "git"
  },
  "language_info": {
   "codemirror_mode": {
    "name": "ipython",
    "version": 3
   },
   "file_extension": ".py",
   "mimetype": "text/x-python",
   "name": "python",
   "nbconvert_exporter": "python",
   "pygments_lexer": "ipython3",
   "version": "3.8.19"
  }
 },
 "nbformat": 4,
 "nbformat_minor": 4
}
