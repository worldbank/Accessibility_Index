{
 "cells": [
  {
   "cell_type": "markdown",
   "id": "edf11558-07e1-4465-8c89-066e3ac80ee5",
   "metadata": {
    "tags": []
   },
   "source": [
    "# Merging into Final Friction Surface(s)\n",
    "This notebook merges the on road and off road friction surfaces to arrive at multimodal friction surfaces"
   ]
  },
  {
   "cell_type": "code",
   "execution_count": null,
   "id": "120a0842-80f0-423a-9c03-eb3e1c9d25de",
   "metadata": {
    "tags": []
   },
   "outputs": [],
   "source": [
    "import os, sys\n",
    "os.environ['USE_PYGEOS'] = '0'\n",
    "\n",
    "import common_rasterio_ops as rast_ops\n",
    "\n",
    "import numpy as np\n",
    "from numpy import pi, log, tan, empty, float32, arctan, rad2deg, gradient\n",
    "from numpy import arctan2, reshape, where\n",
    "from scipy.ndimage import gaussian_gradient_magnitude\n",
    "\n",
    "import rasterio\n",
    "from rasterio import features, transform\n",
    "from rasterio.mask import mask\n",
    "from rasterio.transform import Affine\n",
    "from rasterio.warp import calculate_default_transform, reproject, Resampling\n",
    "from rasterio.io import MemoryFile\n",
    "\n",
    "import pandas as pd\n",
    "import geopandas as gpd\n",
    "\n",
    "import shapely\n",
    "from shapely.geometry import shape, box, Polygon\n",
    "\n",
    "import json"
   ]
  },
  {
   "cell_type": "markdown",
   "id": "e5f1844c-c164-4f7d-858e-c5bc8bec7910",
   "metadata": {},
   "source": [
    "### Setup"
   ]
  },
  {
   "cell_type": "code",
   "execution_count": null,
   "id": "6d3e34b3-caee-4fd5-9e69-d8cc5ade0740",
   "metadata": {},
   "outputs": [],
   "source": [
    "data_root = 'D:\\\\github_test\\\\'\n",
    "\n",
    "##################################################################\n",
    "##################################################################\n",
    "#read project input parameters that will eventually be passed from the UI\n",
    "data_file = data_root + 'project_data.json'\n",
    "\n",
    "##################################################################\n",
    "##################################################################\n",
    "#read project variables that will come from UI so that we have our parameters and file locations\n",
    "with open(data_file, 'rb') as f:\n",
    "    data_loaded = json.load(f)\n",
    "f.close()\n",
    "\n",
    "##################################################################\n",
    "##################################################################\n",
    "#read information from the project setup file that's relevant to this section of code\n",
    "#imports\n",
    "local_dem_folder = data_loaded['local_dem_folder']\n",
    "local_lc_folder = data_loaded['local_lc_folder']\n",
    "local_boundaries_folder = data_loaded['local_boundaries_folder']\n",
    "fric_dir = data_loaded['fric_dir']\n",
    "fric_dir_onroad = data_loaded['fric_dir_onroad']\n",
    "dest_crs = data_loaded['dest_crs']\n",
    "dest_crs_id = data_loaded['dest_crs_id']\n",
    "buffer_m = data_loaded['buffer_m']\n",
    "level = data_loaded['level']\n",
    "if level != 'custom':\n",
    "    shapefile_adm_field = data_loaded['shapefile_adm_field']\n",
    "    adm_name = data_loaded['adm_name']\n",
    "\n",
    "##################################################################\n",
    "##################################################################\n",
    "seasons = sorted([os.path.join(local_lc_folder,file) \\\n",
    "            for file \\\n",
    "            in os.listdir(local_lc_folder) \\\n",
    "            if file.endswith(\".tif\")])\n",
    "\n",
    "for strnum in range(0, len(seasons)):\n",
    "    seasons[strnum] = str.replace(seasons[strnum], local_lc_folder,\"\")\n",
    "    seasons[strnum] = str.replace(seasons[strnum], \".tif\",\"\")   "
   ]
  },
  {
   "cell_type": "markdown",
   "id": "21cf1362-ffe5-407d-a81a-e9bcf07ac144",
   "metadata": {
    "tags": []
   },
   "source": [
    "# Create final multi-modal friction surface"
   ]
  },
  {
   "cell_type": "markdown",
   "id": "b63cc8f1-92b0-4254-9088-58fc96a14d92",
   "metadata": {},
   "source": [
    "Now that the walking surface is created, we can combine it with the previously created on-road speed surfaces, once we transform them to friction surfaces. Combining the two yields the final multi-modal friction surface"
   ]
  },
  {
   "cell_type": "code",
   "execution_count": null,
   "id": "ca088c52-53da-4264-b110-bfc26afe4523",
   "metadata": {
    "tags": []
   },
   "outputs": [],
   "source": [
    "for season_num in range(0, len(seasons)):\n",
    "    \n",
    "    current_season = seasons[season_num]\n",
    "    \n",
    "    # Load in the walking speed surface.\n",
    "    with rasterio.open(os.path.join(fric_dir,current_season+'_walk.tif')) as offr_src:\n",
    "        friction_walk_final = offr_src.read()\n",
    "        offr_profile = offr_src.profile\n",
    "        offr_transform = offr_src.transform\n",
    "\n",
    "\n",
    "    # Load in the on-road speed surface.\n",
    "    with rasterio.open(os.path.join(fric_dir_onroad,current_season+'_onroad.tif')) as onr_src:\n",
    "        drivespeed_array = onr_src.read()\n",
    "        onr_profile = onr_src.profile\n",
    "        onr_transform = onr_src.transform\n",
    "\n",
    "    # Compute a final friction surface by taking the lowest (speediest) value from each raster. In almost all cases this will be the driving surface speed. Note that because our NoData value is `-99999` it will always be lowest, so we need to exclude this\n",
    "    # friction_final = np.where(((friction_drive_step2 < friction_walk_final) | (friction_walk_final == -99999)), friction_drive_step2, friction_walk_final)\n",
    "    friction_final = np.where(((drivespeed_array < friction_walk_final) | (friction_walk_final == -99999)), drivespeed_array, friction_walk_final)\n",
    "\n",
    "    ### Adjustments to reduce final file size\n",
    "    # Round up to 8 decimal points to reduce file size. Note this slightly reduces accuracy\n",
    "\n",
    "    friction_final = np.round(friction_final,8).astype(np.float32)\n",
    "\n",
    "    ### Remove index band\n",
    "    friction_final = friction_final[0, :, :]\n",
    "\n",
    "    ### Export\n",
    "    # Modify the output profile to compress efficiently\n",
    "    export_profile = offr_profile.copy()\n",
    "    export_profile.update({\"dtype\":'float32',\\\n",
    "                           \"COMPRESS\":'ZSTD',\n",
    "                           \"NUM_THREADS\":'ALL_CPUS',\n",
    "                           \"nodata\":-99999})\n",
    "\n",
    "    with rasterio.open(os.path.join(fric_dir,current_season+'_multi.tif'),'w',**export_profile) as dst:\n",
    "        dst.write(friction_final,indexes=1)\n",
    "        dst.build_overviews = ([2,4,8,10,14,16],Resampling.nearest) # build pyramids for quick viewing in desktop GIS software\n",
    "        \n",
    "# del vert_dist_switchback\n",
    "del friction_final,drivespeed_array,friction_walk_final"
   ]
  }
 ],
 "metadata": {
  "kernelspec": {
   "display_name": "Python 3 (ipykernel)",
   "language": "python",
   "name": "python3"
  },
  "language_info": {
   "codemirror_mode": {
    "name": "ipython",
    "version": 3
   },
   "file_extension": ".py",
   "mimetype": "text/x-python",
   "name": "python",
   "nbconvert_exporter": "python",
   "pygments_lexer": "ipython3",
   "version": "3.8.19"
  }
 },
 "nbformat": 4,
 "nbformat_minor": 5
}
